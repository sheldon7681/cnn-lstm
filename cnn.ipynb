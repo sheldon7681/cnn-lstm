{
 "cells": [
  {
   "cell_type": "markdown",
   "metadata": {
    "id": "XS-wWjsfWlec"
   },
   "source": [
    "# Time series forecasting with 1D CNN and LSTM\n",
    "\n",
    "Once again, we'll work with the weather time series dataset collected at the weather station of the Max Planck Institute for Biogeochemistry in Jena, Germany.\n",
    "\n",
    "Keep in mind that dataset includes 14 different variables such as air temperature, air pressure, humidity, wind direction and others, recorded every 10 minutes over several years. While the original data go back to 2003, our focus here is on the data from 2009 to 2016. Our goal is to construct a model that takes recent historical data (a few days' worth of data points) as input and predicts the air temperature 24 hours into the future.\n",
    "\n",
    "You can obtain and decompress the data using the following instructions:"
   ]
  },
  {
   "cell_type": "code",
   "execution_count": 1,
   "metadata": {
    "colab": {
     "base_uri": "https://localhost:8080/"
    },
    "id": "5BwJA25KWlec",
    "outputId": "1a6df6d5-930e-405e-d651-26eba2469d06"
   },
   "outputs": [
    {
     "name": "stderr",
     "output_type": "stream",
     "text": [
      "--2025-04-04 22:43:00--  https://s3.amazonaws.com/keras-datasets/jena_climate_2009_2016.csv.zip\n",
      "Resolving s3.amazonaws.com (s3.amazonaws.com)... 52.217.66.214, 52.216.29.94, 52.217.120.224, ...\n",
      "Connecting to s3.amazonaws.com (s3.amazonaws.com)|52.217.66.214|:443... connected.\n",
      "HTTP request sent, awaiting response... "
     ]
    },
    {
     "name": "stderr",
     "output_type": "stream",
     "text": [
      "200 OK\n",
      "Length: 13565642 (13M) [application/zip]\n",
      "Saving to: ‘jena_climate_2009_2016.csv.zip’\n",
      "\n",
      "     0K .......... .......... .......... .......... ..........  0% 7.52M 2s\n",
      "    50K .......... .......... .......... .......... ..........  0% 8.58M 2s\n",
      "   100K .......... .......... .......... .......... ..........  1% 90.1M 1s\n",
      "   150K .......... .......... .......... .......... ..........  1% 8.84M 1s\n",
      "   200K .......... .......... .......... .......... ..........  1%  152M 1s\n",
      "   250K .......... .......... .......... .......... ..........  2%  160M 1s\n",
      "   300K .......... .......... .......... .......... ..........  2% 9.52M 1s\n",
      "   350K .......... .......... .......... .......... ..........  3%  141M 1s\n",
      "   400K .......... .......... .......... .......... ..........  3%  171M 1s\n",
      "   450K .......... .......... .......... .......... ..........  3%  179M 1s\n",
      "   500K .......... .......... .......... .......... ..........  4%  163M 1s\n",
      "   550K .......... .......... .......... .......... ..........  4%  189M 1s\n",
      "   600K .......... .......... .......... .......... ..........  4%  189M 0s\n",
      "   650K .......... .......... .......... .......... ..........  5% 11.9M 1s\n",
      "   700K .......... .......... .......... .......... ..........  5%  125M 1s\n",
      "   750K .......... .......... .......... .......... ..........  6%  164M 0s\n",
      "   800K .......... .......... .......... .......... ..........  6%  105M 0s\n",
      "   850K .......... .......... .......... .......... ..........  6%  140M 0s\n",
      "   900K .......... .......... .......... .......... ..........  7%  192M 0s\n",
      "   950K .......... .......... .......... .......... ..........  7%  174M 0s\n",
      "  1000K .......... .......... .......... .......... ..........  7%  166M 0s\n",
      "  1050K .......... .......... .......... .......... ..........  8%  187M 0s\n",
      "  1100K .......... .......... .......... .......... ..........  8%  177M 0s\n",
      "  1150K .......... .......... .......... .......... ..........  9%  181M 0s\n",
      "  1200K .......... .......... .......... .......... ..........  9%  158M 0s\n",
      "  1250K .......... .......... .......... .......... ..........  9%  193M 0s\n",
      "  1300K .......... .......... .......... .......... .......... 10% 29.1M 0s\n",
      "  1350K .......... .......... .......... .......... .......... 10%  119M 0s\n",
      "  1400K .......... .......... .......... .......... .......... 10%  141M 0s\n",
      "  1450K .......... .......... .......... .......... .......... 11%  121M 0s\n",
      "  1500K .......... .......... .......... .......... .......... 11%  155M 0s\n",
      "  1550K .......... .......... .......... .......... .......... 12%  142M 0s\n",
      "  1600K .......... .......... .......... .......... .......... 12%  108M 0s\n",
      "  1650K .......... .......... .......... .......... .......... 12%  160M 0s\n",
      "  1700K .......... .......... .......... .......... .......... 13%  171M 0s\n",
      "  1750K .......... .......... .......... .......... .......... 13%  142M 0s\n",
      "  1800K .......... .......... .......... .......... .......... 13%  124M 0s\n",
      "  1850K .......... .......... .......... .......... .......... 14%  136M 0s\n",
      "  1900K .......... .......... .......... .......... .......... 14%  130M 0s\n",
      "  1950K .......... .......... .......... .......... .......... 15%  244M 0s\n",
      "  2000K .......... .......... .......... .......... .......... 15%  189M 0s\n",
      "  2050K .......... .......... .......... .......... .......... 15%  167M 0s\n",
      "  2100K .......... .......... .......... .......... .......... 16%  184M 0s\n",
      "  2150K .......... .......... .......... .......... .......... 16%  179M 0s\n",
      "  2200K .......... .......... .......... .......... .......... 16%  133M 0s\n",
      "  2250K .......... .......... .......... .......... .......... 17%  151M 0s\n",
      "  2300K .......... .......... .......... .......... .......... 17%  178M 0s\n",
      "  2350K .......... .......... .......... .......... .......... 18%  211M 0s\n",
      "  2400K .......... .......... .......... .......... .......... 18%  150M 0s\n",
      "  2450K .......... .......... .......... .......... .......... 18%  159M 0s\n",
      "  2500K .......... .......... .......... .......... .......... 19%  179M 0s\n",
      "  2550K .......... .......... .......... .......... .......... 19%  190M 0s\n",
      "  2600K .......... .......... .......... .......... .......... 20%  153M 0s\n",
      "  2650K .......... .......... .......... .......... .......... 20%  197M 0s\n",
      "  2700K .......... .......... .......... .......... .......... 20%  186M 0s\n",
      "  2750K .......... .......... .......... .......... .......... 21%  162M 0s\n",
      "  2800K .......... .......... .......... .......... .......... 21%  161M 0s\n",
      "  2850K .......... .......... .......... .......... .......... 21%  184M 0s\n",
      "  2900K .......... .......... .......... .......... .......... 22%  154M 0s\n",
      "  2950K .......... .......... .......... .......... .......... 22%  167M 0s\n",
      "  3000K .......... .......... .......... .......... .......... 23%  116M 0s\n",
      "  3050K .......... .......... .......... .......... .......... 23%  141M 0s\n",
      "  3100K .......... .......... .......... .......... .......... 23%  151M 0s\n",
      "  3150K .......... .......... .......... .......... .......... 24%  171M 0s\n",
      "  3200K .......... .......... .......... .......... .......... 24%  140M 0s\n",
      "  3250K .......... .......... .......... .......... .......... 24%  167M 0s\n",
      "  3300K .......... .......... .......... .......... .......... 25%  162M 0s\n",
      "  3350K .......... .......... .......... .......... .......... 25%  161M 0s\n",
      "  3400K .......... .......... .......... .......... .......... 26%  133M 0s\n",
      "  3450K .......... .......... .......... .......... .......... 26%  180M 0s\n",
      "  3500K .......... .......... .......... .......... .......... 26%  131M 0s\n",
      "  3550K .......... .......... .......... .......... .......... 27%  127M 0s\n",
      "  3600K .......... .......... .......... .......... .......... 27%  134M 0s\n",
      "  3650K .......... .......... .......... .......... .......... 27%  147M 0s\n",
      "  3700K .......... .......... .......... .......... .......... 28%  164M 0s\n",
      "  3750K .......... .......... .......... .......... .......... 28%  160M 0s\n",
      "  3800K .......... .......... .......... .......... .......... 29%  118M 0s\n",
      "  3850K .......... .......... .......... .......... .......... 29%  182M 0s\n",
      "  3900K .......... .......... .......... .......... .......... 29%  167M 0s\n",
      "  3950K .......... .......... .......... .......... .......... 30%  164M 0s\n",
      "  4000K .......... .......... .......... .......... .......... 30%  160M 0s\n",
      "  4050K .......... .......... .......... .......... .......... 30%  177M 0s\n",
      "  4100K .......... .......... .......... .......... .......... 31%  183M 0s\n",
      "  4150K .......... .......... .......... .......... .......... 31%  153M 0s\n",
      "  4200K .......... .......... .......... .......... .......... 32%  127M 0s\n",
      "  4250K .......... .......... .......... .......... .......... 32%  154M 0s\n",
      "  4300K .......... .......... .......... .......... .......... 32%  127M 0s\n",
      "  4350K .......... .......... .......... .......... .......... 33%  124M 0s\n",
      "  4400K .......... .......... .......... .......... .......... 33% 76.7M 0s\n",
      "  4450K .......... .......... .......... .......... .......... 33%  167M 0s\n",
      "  4500K .......... .......... .......... .......... .......... 34%  171M 0s\n",
      "  4550K .......... .......... .......... .......... .......... 34%  175M 0s\n",
      "  4600K .......... .......... .......... .......... .......... 35%  166M 0s\n",
      "  4650K .......... .......... .......... .......... .......... 35%  177M 0s\n",
      "  4700K .......... .......... .......... .......... .......... 35%  178M 0s\n",
      "  4750K .......... .......... .......... .......... .......... 36%  201M 0s\n",
      "  4800K .......... .......... .......... .......... .......... 36%  173M 0s\n",
      "  4850K .......... .......... .......... .......... .......... 36%  158M 0s\n",
      "  4900K .......... .......... .......... .......... .......... 37%  166M 0s\n",
      "  4950K .......... .......... .......... .......... .......... 37%  167M 0s\n",
      "  5000K .......... .......... .......... .......... .......... 38%  156M 0s\n",
      "  5050K .......... .......... .......... .......... .......... 38%  154M 0s\n",
      "  5100K .......... .......... .......... .......... .......... 38%  186M 0s\n",
      "  5150K .......... .......... .......... .......... .......... 39% 70.3M 0s\n",
      "  5200K .......... .......... .......... .......... .......... 39%  132M 0s\n",
      "  5250K .......... .......... .......... .......... .......... 40%  180M 0s\n",
      "  5300K .......... .......... .......... .......... .......... 40%  140M 0s\n",
      "  5350K .......... .......... .......... .......... .......... 40%  164M 0s\n",
      "  5400K .......... .......... .......... .......... .......... 41%  135M 0s\n",
      "  5450K .......... .......... .......... .......... .......... 41%  169M 0s\n",
      "  5500K .......... .......... .......... .......... .......... 41%  156M 0s\n",
      "  5550K .......... .......... .......... .......... .......... 42%  152M 0s\n",
      "  5600K .......... .......... .......... .......... .......... 42%  145M 0s\n",
      "  5650K .......... .......... .......... .......... .......... 43%  163M 0s\n",
      "  5700K .......... .......... .......... .......... .......... 43%  172M 0s\n",
      "  5750K .......... .......... .......... .......... .......... 43%  170M 0s\n",
      "  5800K .......... .......... .......... .......... .......... 44%  130M 0s\n",
      "  5850K .......... .......... .......... .......... .......... 44%  159M 0s\n",
      "  5900K .......... .......... .......... .......... .......... 44%  180M 0s\n",
      "  5950K .......... .......... .......... .......... .......... 45%  147M 0s\n",
      "  6000K .......... .......... .......... .......... .......... 45%  127M 0s\n",
      "  6050K .......... .......... .......... .......... .......... 46%  178M 0s\n",
      "  6100K .......... .......... .......... .......... .......... 46%  145M 0s\n",
      "  6150K .......... .......... .......... .......... .......... 46%  183M 0s\n",
      "  6200K .......... .......... .......... .......... .......... 47%  129M 0s\n",
      "  6250K .......... .......... .......... .......... .......... 47%  146M 0s\n",
      "  6300K .......... .......... .......... .......... .......... 47%  137M 0s\n",
      "  6350K .......... .......... .......... .......... .......... 48%  143M 0s\n",
      "  6400K .......... .......... .......... .......... .......... 48%  122M 0s\n",
      "  6450K .......... .......... .......... .......... .......... 49%  170M 0s\n",
      "  6500K .......... .......... .......... .......... .......... 49%  164M 0s\n",
      "  6550K .......... .......... .......... .......... .......... 49% 85.1M 0s\n",
      "  6600K .......... .......... .......... .......... .......... 50%  191M 0s\n",
      "  6650K .......... .......... .......... .......... .......... 50%  220M 0s\n",
      "  6700K .......... .......... .......... .......... .......... 50%  176M 0s\n",
      "  6750K .......... .......... .......... .......... .......... 51%  120M 0s\n",
      "  6800K .......... .......... .......... .......... .......... 51% 50.8M 0s\n",
      "  6850K .......... .......... .......... .......... .......... 52%  112M 0s\n",
      "  6900K .......... .......... .......... .......... .......... 52%  137M 0s\n",
      "  6950K .......... .......... .......... .......... .......... 52%  271M 0s\n",
      "  7000K .......... .......... .......... .......... .......... 53%  247M 0s\n",
      "  7050K .......... .......... .......... .......... .......... 53%  307M 0s\n",
      "  7100K .......... .......... .......... .......... .......... 53%  270M 0s\n",
      "  7150K .......... .......... .......... .......... .......... 54%  237M 0s\n",
      "  7200K .......... .......... .......... .......... .......... 54%  199M 0s\n",
      "  7250K .......... .......... .......... .......... .......... 55%  157M 0s\n",
      "  7300K .......... .......... .......... .......... .......... 55%  264M 0s\n",
      "  7350K .......... .......... .......... .......... .......... 55%  219M 0s\n",
      "  7400K .......... .......... .......... .......... .......... 56%  116M 0s\n",
      "  7450K .......... .......... .......... .......... .......... 56%  191M 0s\n",
      "  7500K .......... .......... .......... .......... .......... 56%  130M 0s\n",
      "  7550K .......... .......... .......... .......... .......... 57%  215M 0s\n",
      "  7600K .......... .......... .......... .......... .......... 57%  185M 0s\n",
      "  7650K .......... .......... .......... .......... .......... 58%  206M 0s\n",
      "  7700K .......... .......... .......... .......... .......... 58%  144M 0s\n",
      "  7750K .......... .......... .......... .......... .......... 58%  128M 0s\n",
      "  7800K .......... .......... .......... .......... .......... 59%  101M 0s\n",
      "  7850K .......... .......... .......... .......... .......... 59%  125M 0s\n",
      "  7900K .......... .......... .......... .......... .......... 60%  138M 0s\n",
      "  7950K .......... .......... .......... .......... .......... 60%  162M 0s\n",
      "  8000K .......... .......... .......... .......... .......... 60%  121M 0s\n",
      "  8050K .......... .......... .......... .......... .......... 61%  197M 0s\n",
      "  8100K .......... .......... .......... .......... .......... 61%  138M 0s\n",
      "  8150K .......... .......... .......... .......... .......... 61%  148M 0s\n",
      "  8200K .......... .......... .......... .......... .......... 62%  145M 0s\n",
      "  8250K .......... .......... .......... .......... .......... 62%  128M 0s\n",
      "  8300K .......... .......... .......... .......... .......... 63%  132M 0s\n",
      "  8350K .......... .......... .......... .......... .......... 63%  201M 0s\n",
      "  8400K .......... .......... .......... .......... .......... 63%  100M 0s\n",
      "  8450K .......... .......... .......... .......... .......... 64%  178M 0s\n",
      "  8500K .......... .......... .......... .......... .......... 64%  160M 0s\n",
      "  8550K .......... .......... .......... .......... .......... 64%  160M 0s\n",
      "  8600K .......... .......... .......... .......... .......... 65%  156M 0s\n",
      "  8650K .......... .......... .......... .......... .......... 65%  170M 0s\n",
      "  8700K .......... .......... .......... .......... .......... 66%  146M 0s\n",
      "  8750K .......... .......... .......... .......... .......... 66%  265M 0s\n",
      "  8800K .......... .......... .......... .......... .......... 66%  181M 0s\n",
      "  8850K .......... .......... .......... .......... .......... 67%  155M 0s\n",
      "  8900K .......... .......... .......... .......... .......... 67%  132M 0s\n",
      "  8950K .......... .......... .......... .......... .......... 67%  148M 0s\n",
      "  9000K .......... .......... .......... .......... .......... 68%  138M 0s\n",
      "  9050K .......... .......... .......... .......... .......... 68%  121M 0s\n",
      "  9100K .......... .......... .......... .......... .......... 69%  134M 0s\n",
      "  9150K .......... .......... .......... .......... .......... 69%  122M 0s\n",
      "  9200K .......... .......... .......... .......... .......... 69%  127M 0s\n",
      "  9250K .......... .......... .......... .......... .......... 70%  167M 0s\n",
      "  9300K .......... .......... .......... .......... .......... 70% 44.7M 0s\n",
      "  9350K .......... .......... .......... .......... .......... 70% 82.9M 0s\n",
      "  9400K .......... .......... .......... .......... .......... 71% 78.6M 0s\n",
      "  9450K .......... .......... .......... .......... .......... 71% 91.3M 0s\n",
      "  9500K .......... .......... .......... .......... .......... 72%  147M 0s\n",
      "  9550K .......... .......... .......... .......... .......... 72%  121M 0s\n",
      "  9600K .......... .......... .......... .......... .......... 72%  130M 0s\n",
      "  9650K .......... .......... .......... .......... .......... 73%  136M 0s\n",
      "  9700K .......... .......... .......... .......... .......... 73%  180M 0s\n",
      "  9750K .......... .......... .......... .......... .......... 73%  155M 0s\n",
      "  9800K .......... .......... .......... .......... .......... 74%  143M 0s\n",
      "  9850K .......... .......... .......... .......... .......... 74%  144M 0s\n",
      "  9900K .......... .......... .......... .......... .......... 75%  139M 0s\n",
      "  9950K .......... .......... .......... .......... .......... 75%  135M 0s\n",
      " 10000K .......... .......... .......... .......... .......... 75%  129M 0s\n",
      " 10050K .......... .......... .......... .......... .......... 76%  142M 0s\n",
      " 10100K .......... .......... .......... .......... .......... 76%  134M 0s\n",
      " 10150K .......... .......... .......... .......... .......... 76%  143M 0s\n",
      " 10200K .......... .......... .......... .......... .......... 77%  122M 0s\n",
      " 10250K .......... .......... .......... .......... .......... 77%  136M 0s\n",
      " 10300K .......... .......... .......... .......... .......... 78%  136M 0s\n",
      " 10350K .......... .......... .......... .......... .......... 78%  137M 0s\n",
      " 10400K .......... .......... .......... .......... .......... 78%  146M 0s\n",
      " 10450K .......... .......... .......... .......... .......... 79%  176M 0s\n",
      " 10500K .......... .......... .......... .......... .......... 79%  191M 0s\n",
      " 10550K .......... .......... .......... .......... .......... 80%  144M 0s\n",
      " 10600K .......... .......... .......... .......... .......... 80%  128M 0s\n",
      " 10650K .......... .......... .......... .......... .......... 80%  138M 0s\n",
      " 10700K .......... .......... .......... .......... .......... 81%  131M 0s\n",
      " 10750K .......... .......... .......... .......... .......... 81%  132M 0s\n",
      " 10800K .......... .......... .......... .......... .......... 81%  125M 0s\n",
      " 10850K .......... .......... .......... .......... .......... 82%  124M 0s\n",
      " 10900K .......... .......... .......... .......... .......... 82%  130M 0s\n",
      " 10950K .......... .......... .......... .......... .......... 83%  123M 0s\n",
      " 11000K .......... .......... .......... .......... .......... 83%  140M 0s\n",
      " 11050K .......... .......... .......... .......... .......... 83%  115M 0s\n",
      " 11100K .......... .......... .......... .......... .......... 84%  141M 0s\n",
      " 11150K .......... .......... .......... .......... .......... 84%  137M 0s\n",
      " 11200K .......... .......... .......... .......... .......... 84%  110M 0s\n",
      " 11250K .......... .......... .......... .......... .......... 85%  162M 0s\n",
      " 11300K .......... .......... .......... .......... .......... 85%  119M 0s\n",
      " 11350K .......... .......... .......... .......... .......... 86%  119M 0s\n",
      " 11400K .......... .......... .......... .......... .......... 86%  144M 0s\n",
      " 11450K .......... .......... .......... .......... .......... 86%  170M 0s\n",
      " 11500K .......... .......... .......... .......... .......... 87%  141M 0s\n",
      " 11550K .......... .......... .......... .......... .......... 87%  196M 0s\n",
      " 11600K .......... .......... .......... .......... .......... 87%  130M 0s\n",
      " 11650K .......... .......... .......... .......... .......... 88%  132M 0s\n",
      " 11700K .......... .......... .......... .......... .......... 88%  123M 0s\n",
      " 11750K .......... .......... .......... .......... .......... 89%  152M 0s\n",
      " 11800K .......... .......... .......... .......... .......... 89%  113M 0s\n",
      " 11850K .......... .......... .......... .......... .......... 89%  125M 0s\n",
      " 11900K .......... .......... .......... .......... .......... 90%  132M 0s\n",
      " 11950K .......... .......... .......... .......... .......... 90%  119M 0s\n",
      " 12000K .......... .......... .......... .......... .......... 90%  133M 0s\n",
      " 12050K .......... .......... .......... .......... .......... 91%  141M 0s\n",
      " 12100K .......... .......... .......... .......... .......... 91%  125M 0s\n",
      " 12150K .......... .......... .......... .......... .......... 92%  123M 0s\n",
      " 12200K .......... .......... .......... .......... .......... 92%  126M 0s\n",
      " 12250K .......... .......... .......... .......... .......... 92%  143M 0s\n",
      " 12300K .......... .......... .......... .......... .......... 93%  148M 0s\n",
      " 12350K .......... .......... .......... .......... .......... 93%  152M 0s\n",
      " 12400K .......... .......... .......... .......... .......... 93%  174M 0s\n",
      " 12450K .......... .......... .......... .......... .......... 94%  151M 0s\n",
      " 12500K .......... .......... .......... .......... .......... 94%  172M 0s\n",
      " 12550K .......... .......... .......... .......... .......... 95%  172M 0s\n",
      " 12600K .......... .......... .......... .......... .......... 95%  163M 0s\n",
      " 12650K .......... .......... .......... .......... .......... 95%  159M 0s\n",
      " 12700K .......... .......... .......... .......... .......... 96%  192M 0s\n",
      " 12750K .......... .......... .......... .......... .......... 96%  165M 0s\n",
      " 12800K .......... .......... .......... .......... .......... 96%  147M 0s\n",
      " 12850K .......... .......... .......... .......... .......... 97%  137M 0s\n",
      " 12900K .......... .......... .......... .......... .......... 97%  128M 0s\n",
      " 12950K .......... .......... .......... .......... .......... 98%  128M 0s\n",
      " 13000K .......... .......... .......... .......... .......... 98%  128M 0s\n",
      " 13050K .......... .......... .......... .......... .......... 98%  160M 0s\n",
      " 13100K .......... .......... .......... .......... .......... 99%  117M 0s\n",
      " 13150K .......... .......... .......... .......... .......... 99%  133M 0s\n",
      " 13200K .......... .......... .......... .......... .......   100%  118M=0.1s\n",
      "\n",
      "2025-04-04 22:43:00 (111 MB/s) - ‘jena_climate_2009_2016.csv.zip’ saved [13565642/13565642]\n",
      "\n"
     ]
    },
    {
     "name": "stdout",
     "output_type": "stream",
     "text": [
      "Archive:  jena_climate_2009_2016.csv.zip\n",
      "  inflating: jena_climate_2009_2016.csv  \n",
      "  inflating: __MACOSX/._jena_climate_2009_2016.csv  \n"
     ]
    }
   ],
   "source": [
    "%%bash\n",
    "mkdir jena_climate\n",
    "cd jena_climate\n",
    "wget https://s3.amazonaws.com/keras-datasets/jena_climate_2009_2016.csv.zip\n",
    "unzip jena_climate_2009_2016.csv.zip"
   ]
  },
  {
   "cell_type": "markdown",
   "metadata": {
    "id": "dSx_YccHWled"
   },
   "source": [
    "By the way, the following code is a modified version of the code that can be found in [1]. That said, let us begin by importing some useful libraries and modules."
   ]
  },
  {
   "cell_type": "code",
   "execution_count": 2,
   "metadata": {
    "id": "6W8aBhMJZ5lE"
   },
   "outputs": [
    {
     "name": "stderr",
     "output_type": "stream",
     "text": [
      "2025-04-04 22:43:03.338104: I external/local_xla/xla/tsl/cuda/cudart_stub.cc:32] Could not find cuda drivers on your machine, GPU will not be used.\n",
      "2025-04-04 22:43:03.397209: I external/local_xla/xla/tsl/cuda/cudart_stub.cc:32] Could not find cuda drivers on your machine, GPU will not be used.\n",
      "2025-04-04 22:43:03.446324: E external/local_xla/xla/stream_executor/cuda/cuda_fft.cc:467] Unable to register cuFFT factory: Attempting to register factory for plugin cuFFT when one has already been registered\n",
      "WARNING: All log messages before absl::InitializeLog() is called are written to STDERR\n",
      "E0000 00:00:1743806583.499918    8321 cuda_dnn.cc:8579] Unable to register cuDNN factory: Attempting to register factory for plugin cuDNN when one has already been registered\n",
      "E0000 00:00:1743806583.516049    8321 cuda_blas.cc:1407] Unable to register cuBLAS factory: Attempting to register factory for plugin cuBLAS when one has already been registered\n",
      "W0000 00:00:1743806583.625265    8321 computation_placer.cc:177] computation placer already registered. Please check linkage and avoid linking the same target more than once.\n",
      "W0000 00:00:1743806583.625300    8321 computation_placer.cc:177] computation placer already registered. Please check linkage and avoid linking the same target more than once.\n",
      "W0000 00:00:1743806583.625303    8321 computation_placer.cc:177] computation placer already registered. Please check linkage and avoid linking the same target more than once.\n",
      "W0000 00:00:1743806583.625305    8321 computation_placer.cc:177] computation placer already registered. Please check linkage and avoid linking the same target more than once.\n",
      "2025-04-04 22:43:03.638584: I tensorflow/core/platform/cpu_feature_guard.cc:210] This TensorFlow binary is optimized to use available CPU instructions in performance-critical operations.\n",
      "To enable the following instructions: AVX2 FMA, in other operations, rebuild TensorFlow with the appropriate compiler flags.\n"
     ]
    }
   ],
   "source": [
    "import os\n",
    "import numpy as np\n",
    "import matplotlib.pyplot as plt\n",
    "\n",
    "from matplotlib import pyplot as plt\n",
    "from tensorflow import keras\n",
    "from tensorflow.keras import layers"
   ]
  },
  {
   "cell_type": "markdown",
   "metadata": {
    "id": "Ra6c0_-HZ5lE"
   },
   "source": [
    "The following lines of code will open the `csv` file that was downloaded and store that information in the variable named `data`."
   ]
  },
  {
   "cell_type": "code",
   "execution_count": 4,
   "metadata": {
    "colab": {
     "base_uri": "https://localhost:8080/"
    },
    "id": "LB7vqC3SWled",
    "outputId": "557e562a-8bdb-40ad-c62d-897d153c9826"
   },
   "outputs": [
    {
     "name": "stdout",
     "output_type": "stream",
     "text": [
      "['\"Date Time\"', '\"p (mbar)\"', '\"T (degC)\"', '\"Tpot (K)\"', '\"Tdew (degC)\"', '\"rh (%)\"', '\"VPmax (mbar)\"', '\"VPact (mbar)\"', '\"VPdef (mbar)\"', '\"sh (g/kg)\"', '\"H2OC (mmol/mol)\"', '\"rho (g/m**3)\"', '\"wv (m/s)\"', '\"max. wv (m/s)\"', '\"wd (deg)\"']\n",
      "420451\n"
     ]
    }
   ],
   "source": [
    "data_dir = 'jena_climate'\n",
    "fname = os.path.join(data_dir, \"jena_climate_2009_2016.csv\")\n",
    "\n",
    "with open(fname) as f:\n",
    "    data = f.read()\n",
    "\n",
    "lines = data.split(\"\\n\")\n",
    "header = lines[0].split(\",\")\n",
    "lines = lines[1:]\n",
    "print(header)\n",
    "print(len(lines))"
   ]
  },
  {
   "cell_type": "markdown",
   "metadata": {
    "id": "N5ASAQEFZ5lF"
   },
   "source": [
    "We can see that we're working with 14 variables and 420,551 registers. In the following cell, we'll create two `NumPy` arrays: one for the temperature variable (`temperature`), and another one for all the data (`raw_data`).  "
   ]
  },
  {
   "cell_type": "code",
   "execution_count": 5,
   "metadata": {
    "id": "XOprgXR3Wled"
   },
   "outputs": [],
   "source": [
    "temperature = np.zeros((len(lines),))\n",
    "raw_data = np.zeros((len(lines), len(header) - 1))\n",
    "for i, line in enumerate(lines):\n",
    "    values = [float(x) for x in line.split(\",\")[1:]]\n",
    "    temperature[i] = values[1]\n",
    "    raw_data[i, :] = values[:]"
   ]
  },
  {
   "cell_type": "markdown",
   "metadata": {
    "id": "0X04lh2GWlee"
   },
   "source": [
    "Here is the plot of temperature (in degrees Celsius) over time. On this plot, you can clearly see the yearly periodicity of temperature."
   ]
  },
  {
   "cell_type": "code",
   "execution_count": 6,
   "metadata": {
    "colab": {
     "base_uri": "https://localhost:8080/",
     "height": 451
    },
    "id": "y2ewHkpyWlee",
    "outputId": "f0c682ee-a84a-4531-dd90-0f90bc7bd3d8"
   },
   "outputs": [
    {
     "data": {
      "text/plain": [
       "[<matplotlib.lines.Line2D at 0x758b50dfa810>]"
      ]
     },
     "execution_count": 6,
     "metadata": {},
     "output_type": "execute_result"
    },
    {
     "data": {
      "image/png": "[encoded data removed]",
      "text/plain": [
       "<Figure size 640x480 with 1 Axes>"
      ]
     },
     "metadata": {},
     "output_type": "display_data"
    }
   ],
   "source": [
    "plt.plot(range(len(temperature)), temperature)"
   ]
  },
  {
   "cell_type": "markdown",
   "metadata": {
    "id": "g0S2ye1WWlee"
   },
   "source": [
    "By the way, it is recommended that you always look for periodicity in your data. Time series data usually have periodicity on different time scales, so it's important to find these patterns so that the models we train can learn them.\n",
    "\n",
    "In the next steps we'll allocate 50% of the data to training, 25% to validation and the remainder to testing. When dealing with time series data, it's important to ensure that the validation and test data sets are more recent than the training data. This is because our goal is to predict the future based on past observations, not to predict the past based on the future."
   ]
  },
  {
   "cell_type": "code",
   "execution_count": 7,
   "metadata": {
    "colab": {
     "base_uri": "https://localhost:8080/"
    },
    "id": "wInAPj2QWlee",
    "outputId": "e1dd33e3-01b8-4cff-e39d-839dbed8ac36"
   },
   "outputs": [
    {
     "name": "stdout",
     "output_type": "stream",
     "text": [
      "num_train_samples: 210225\n",
      "num_val_samples: 105112\n",
      "num_test_samples: 105114\n"
     ]
    }
   ],
   "source": [
    "num_train_samples = int(0.5 * len(raw_data))\n",
    "num_val_samples = int(0.25 * len(raw_data))\n",
    "num_test_samples = len(raw_data) - num_train_samples - num_val_samples\n",
    "print(\"num_train_samples:\", num_train_samples)\n",
    "print(\"num_val_samples:\", num_val_samples)\n",
    "print(\"num_test_samples:\", num_test_samples)"
   ]
  },
  {
   "cell_type": "markdown",
   "metadata": {
    "id": "XOoizdpSWlef"
   },
   "source": [
    "## Formulation of the problem\n",
    "\n",
    "The problem we will be solving goes as follows: given data going as far back as `sequence_length` timesteps (a timestep is 10 minutes) and sampled every `sampling_rate` timesteps, can we predict the temperature in `delay` timesteps? We will use the following parameter values:\n",
    "\n",
    "- `sequence_length`: 120—Observations will go back 5 days.\n",
    "- `sampling_rate`: 6—Observations will be sampled at one data point per hour.\n",
    "- `delay`: Targets will be 24 hours after the end of the sequence.\n",
    "\n",
    "## Preparing the data\n",
    "\n",
    "Each time series in the dataset operates on a different scale: for example, temperature typically ranges between -20 and +30, whereas atmospheric pressure, measured in mbar, hovers around 1,000. To deal with this, we'll normalize each time series independently, ensuring that they all have small values within a comparable scale."
   ]
  },
  {
   "cell_type": "code",
   "execution_count": 8,
   "metadata": {
    "id": "EXq06b7QWlef"
   },
   "outputs": [],
   "source": [
    "mean = raw_data[: num_train_samples].mean(axis=0)\n",
    "raw_data -= mean\n",
    "std = raw_data[: num_train_samples].std(axis=0)\n",
    "raw_data /= std"
   ]
  },
  {
   "cell_type": "markdown",
   "metadata": {
    "id": "eiQElr1TZ5lG"
   },
   "source": [
    "Next, we'll construct a `dataset` object that produces batches of data over the past five days, along with a target temperature for 24 hours into the future.\n",
    "\n",
    "As before, we could write a `Python` generator to do this, however, `Keras`  provides a handy built-in dataset utility (`timeseries_dataset_from_array()`). As expected, we'll use this utility to instantiate three datasets: one fore training, onf for validation, and one for testing."
   ]
  },
  {
   "cell_type": "code",
   "execution_count": 9,
   "metadata": {
    "id": "ECEUWOdjWlef"
   },
   "outputs": [
    {
     "name": "stderr",
     "output_type": "stream",
     "text": [
      "2025-04-04 22:43:52.541377: E external/local_xla/xla/stream_executor/cuda/cuda_platform.cc:51] failed call to cuInit: INTERNAL: CUDA error: Failed call to cuInit: UNKNOWN ERROR (303)\n"
     ]
    }
   ],
   "source": [
    "sampling_rate = 6\n",
    "sequence_length = 120\n",
    "delay = sampling_rate * (sequence_length + 24 - 1)\n",
    "batch_size = 256\n",
    "\n",
    "train_dataset = keras.utils.timeseries_dataset_from_array(\n",
    "    raw_data[:-delay],\n",
    "    targets=temperature[delay:],\n",
    "    sampling_rate=sampling_rate,\n",
    "    sequence_length=sequence_length,\n",
    "    shuffle=True,\n",
    "    batch_size=batch_size,\n",
    "    start_index=0,\n",
    "    end_index=num_train_samples)\n",
    "\n",
    "val_dataset = keras.utils.timeseries_dataset_from_array(\n",
    "    raw_data[:-delay],\n",
    "    targets=temperature[delay:],\n",
    "    sampling_rate=sampling_rate,\n",
    "    sequence_length=sequence_length,\n",
    "    shuffle=True,\n",
    "    batch_size=batch_size,\n",
    "    start_index=num_train_samples,\n",
    "    end_index=num_train_samples + num_val_samples)\n",
    "\n",
    "test_dataset = keras.utils.timeseries_dataset_from_array(\n",
    "    raw_data[:-delay],\n",
    "    targets=temperature[delay:],\n",
    "    sampling_rate=sampling_rate,\n",
    "    sequence_length=sequence_length,\n",
    "    shuffle=True,\n",
    "    batch_size=batch_size,\n",
    "    start_index=num_train_samples + num_val_samples)"
   ]
  },
  {
   "cell_type": "markdown",
   "metadata": {
    "id": "EsWTAifeWlef"
   },
   "source": [
    "Every dataset provides a tuple (`samples`, `targets`), where samples represent a batch of 256 samples. Each `sample` comprises 120 consecutive hours of input data, while `targets` consist of the corresponding array of 256 target temperatures. It's important to note that the samples are shuffled randomly, meaning that two consecutive sequences in a batch (such as `samples[0]` and `samples[1]`) may not be temporally adjacent.\n",
    "\n",
    "## A common-sense baseline\n",
    "\n",
    "In this scenario, we can reasonably assume that the temperature timeseries is continuous (tomorrow's temperatures are expected to be similar to today's) and periodic, with a daily cycle. Therefore, a straightforward approach is to predict that the temperature 24 hours from now will be the same as the current temperature. We'll assess this method using the mean absolute error (MAE) metric."
   ]
  },
  {
   "cell_type": "code",
   "execution_count": 10,
   "metadata": {
    "colab": {
     "base_uri": "https://localhost:8080/"
    },
    "id": "4VLZ2ZpdWleg",
    "outputId": "b12b5430-fa30-455b-f5d0-a4633f55eb99"
   },
   "outputs": [
    {
     "name": "stderr",
     "output_type": "stream",
     "text": [
      "2025-04-04 22:43:58.157364: I tensorflow/core/framework/local_rendezvous.cc:407] Local rendezvous is aborting with status: OUT_OF_RANGE: End of sequence\n"
     ]
    },
    {
     "name": "stdout",
     "output_type": "stream",
     "text": [
      "Validation MAE: 2.44\n",
      "Test MAE: 2.62\n"
     ]
    },
    {
     "name": "stderr",
     "output_type": "stream",
     "text": [
      "2025-04-04 22:44:02.958668: I tensorflow/core/framework/local_rendezvous.cc:407] Local rendezvous is aborting with status: OUT_OF_RANGE: End of sequence\n"
     ]
    }
   ],
   "source": [
    "def evaluate_naive_method(dataset):\n",
    "\n",
    "    total_abs_err = 0.\n",
    "    samples_seen = 0\n",
    "\n",
    "    for samples, targets in dataset:\n",
    "        preds = samples[:, -1, 1] * std[1] + mean[1]\n",
    "        total_abs_err += np.sum(np.abs(preds - targets))\n",
    "        samples_seen += samples.shape[0]\n",
    "\n",
    "    return total_abs_err / samples_seen\n",
    "\n",
    "print(f\"Validation MAE: {evaluate_naive_method(val_dataset):.2f}\")\n",
    "print(f\"Test MAE: {evaluate_naive_method(test_dataset):.2f}\")"
   ]
  },
  {
   "cell_type": "markdown",
   "metadata": {
    "id": "DCxnzB4JWleg"
   },
   "source": [
    "This simple baseline results in a validation MAE of 2.44 degrees Celsius and a test MAE of 2.62 degrees Celsius. Therefore, predicting that the temperature 24 hours ahead will be identical to the current temperature leads to an average error of around two and a half degrees. This said, we'd expect our models to do better than this.  "
   ]
  },
  {
   "cell_type": "markdown",
   "metadata": {
    "id": "kLgl4WDWWleg"
   },
   "source": [
    "## 1D convolutional model\n",
    "\n",
    "Regarding harnessing appropriate architectural priors, given that our input sequences exhibit daily cycles, it's worth considering a convolutional model. A temporal convolutional network could effectively reuse representations across different days, similar to how a spatial convolutional network can reuse representations across distinct locations in an image.\n",
    "\n",
    "Most likely, if you have worked with images and neural networks, you're already familiar with `Conv2D` and `SeparableConv2D` layers, which process inputs using small sliding windows over 2D grids. Additionally, there are 1D and even 3D versions of these layers: `Conv1D`, `SeparableConv1D`, and `Conv3D`. The `Conv1D` layer operates with 1D sliding windows over input sequences, while the `Conv3D` layer employs cubic windows across input volumes.\n",
    "\n",
    "Following the *translation invariance assumption*, it makes sense to construct 1D convolutional networks, analogous to their 2D counterparts, which are well-suited for sequence data . This assumption implies that the properties within a window remain consistent regardless of its position within the sequence.\n",
    "\n",
    "We'll begin with an initial window length of 24, enabling us to analyze 24 hours of data in each cycle. As we downsample the sequences using `MaxPooling1D` layers, we'll adjust the window size accordingly."
   ]
  },
  {
   "cell_type": "code",
   "execution_count": 11,
   "metadata": {
    "colab": {
     "base_uri": "https://localhost:8080/"
    },
    "id": "CwD7U8qpWleg",
    "outputId": "1968b8b9-e5f9-41e2-b512-ec7388c1e800"
   },
   "outputs": [
    {
     "name": "stdout",
     "output_type": "stream",
     "text": [
      "Epoch 1/10\n"
     ]
    },
    {
     "name": "stdout",
     "output_type": "stream",
     "text": [
      "\u001b[1m819/819\u001b[0m \u001b[32m━━━━━━━━━━━━━━━━━━━━\u001b[0m\u001b[37m\u001b[0m \u001b[1m24s\u001b[0m 29ms/step - loss: 34.5183 - mae: 4.4555 - val_loss: 17.7532 - val_mae: 3.3090\n",
      "Epoch 2/10\n",
      "\u001b[1m819/819\u001b[0m \u001b[32m━━━━━━━━━━━━━━━━━━━━\u001b[0m\u001b[37m\u001b[0m \u001b[1m23s\u001b[0m 28ms/step - loss: 16.1646 - mae: 3.1908 - val_loss: 18.1392 - val_mae: 3.3481\n",
      "Epoch 3/10\n",
      "\u001b[1m819/819\u001b[0m \u001b[32m━━━━━━━━━━━━━━━━━━━━\u001b[0m\u001b[37m\u001b[0m \u001b[1m23s\u001b[0m 28ms/step - loss: 14.5798 - mae: 3.0304 - val_loss: 16.2479 - val_mae: 3.1667\n",
      "Epoch 4/10\n",
      "\u001b[1m819/819\u001b[0m \u001b[32m━━━━━━━━━━━━━━━━━━━━\u001b[0m\u001b[37m\u001b[0m \u001b[1m23s\u001b[0m 28ms/step - loss: 13.7130 - mae: 2.9305 - val_loss: 14.2574 - val_mae: 2.9763\n",
      "Epoch 5/10\n",
      "\u001b[1m819/819\u001b[0m \u001b[32m━━━━━━━━━━━━━━━━━━━━\u001b[0m\u001b[37m\u001b[0m \u001b[1m23s\u001b[0m 28ms/step - loss: 13.0701 - mae: 2.8560 - val_loss: 15.1513 - val_mae: 3.0577\n",
      "Epoch 6/10\n",
      "\u001b[1m819/819\u001b[0m \u001b[32m━━━━━━━━━━━━━━━━━━━━\u001b[0m\u001b[37m\u001b[0m \u001b[1m23s\u001b[0m 28ms/step - loss: 12.5329 - mae: 2.7984 - val_loss: 18.8504 - val_mae: 3.4305\n",
      "Epoch 7/10\n",
      "\u001b[1m819/819\u001b[0m \u001b[32m━━━━━━━━━━━━━━━━━━━━\u001b[0m\u001b[37m\u001b[0m \u001b[1m23s\u001b[0m 28ms/step - loss: 12.2014 - mae: 2.7578 - val_loss: 15.2414 - val_mae: 3.0608\n",
      "Epoch 8/10\n",
      "\u001b[1m819/819\u001b[0m \u001b[32m━━━━━━━━━━━━━━━━━━━━\u001b[0m\u001b[37m\u001b[0m \u001b[1m23s\u001b[0m 28ms/step - loss: 11.7733 - mae: 2.7086 - val_loss: 15.5243 - val_mae: 3.1195\n",
      "Epoch 9/10\n",
      "\u001b[1m819/819\u001b[0m \u001b[32m━━━━━━━━━━━━━━━━━━━━\u001b[0m\u001b[37m\u001b[0m \u001b[1m23s\u001b[0m 28ms/step - loss: 11.5031 - mae: 2.6761 - val_loss: 13.9174 - val_mae: 2.9306\n",
      "Epoch 10/10\n",
      "\u001b[1m819/819\u001b[0m \u001b[32m━━━━━━━━━━━━━━━━━━━━\u001b[0m\u001b[37m\u001b[0m \u001b[1m23s\u001b[0m 28ms/step - loss: 11.2172 - mae: 2.6433 - val_loss: 15.4974 - val_mae: 3.0611\n",
      "\u001b[1m405/405\u001b[0m \u001b[32m━━━━━━━━━━━━━━━━━━━━\u001b[0m\u001b[37m\u001b[0m \u001b[1m6s\u001b[0m 15ms/step - loss: 14.9645 - mae: 3.0468\n",
      "Test MAE: 3.05\n"
     ]
    }
   ],
   "source": [
    "inputs = keras.Input(shape=(sequence_length, raw_data.shape[-1]))\n",
    "x = layers.Conv1D(8, 24, activation=\"relu\")(inputs)\n",
    "x = layers.MaxPooling1D(2)(x)\n",
    "x = layers.Conv1D(8, 12, activation=\"relu\")(x)\n",
    "x = layers.MaxPooling1D(2)(x)\n",
    "x = layers.Conv1D(8, 6, activation=\"relu\")(x)\n",
    "x = layers.GlobalAveragePooling1D()(x)\n",
    "outputs = layers.Dense(1)(x)\n",
    "model = keras.Model(inputs, outputs)\n",
    "\n",
    "callbacks = [keras.callbacks.ModelCheckpoint(\"jena_conv.keras\", save_best_only=True)]\n",
    "\n",
    "model.compile(optimizer=\"rmsprop\", loss=\"mse\", metrics=[\"mae\"])\n",
    "history = model.fit(train_dataset, epochs=10, validation_data=val_dataset, callbacks=callbacks)\n",
    "\n",
    "model = keras.models.load_model(\"jena_conv.keras\")\n",
    "print(f\"Test MAE: {model.evaluate(test_dataset)[1]:.2f}\")"
   ]
  },
  {
   "cell_type": "code",
   "execution_count": 12,
   "metadata": {
    "colab": {
     "base_uri": "https://localhost:8080/",
     "height": 452
    },
    "id": "y76ZdPNuWleg",
    "outputId": "75b2e9a1-23b0-43c2-afcd-03d7a1d5b6ee"
   },
   "outputs": [
    {
     "data": {
      "image/png": "[encoded data removed]",
      "text/plain": [
       "<Figure size 640x480 with 1 Axes>"
      ]
     },
     "metadata": {},
     "output_type": "display_data"
    }
   ],
   "source": [
    "loss = history.history[\"mae\"]\n",
    "val_loss = history.history[\"val_mae\"]\n",
    "epochs = range(1, len(loss) + 1)\n",
    "plt.figure()\n",
    "plt.plot(epochs, loss, \"bo\", label=\"Training MAE\")\n",
    "plt.plot(epochs, val_loss, \"b\", label=\"Validation MAE\")\n",
    "plt.title(\"Training and validation MAE\")\n",
    "plt.legend()\n",
    "plt.show()"
   ]
  },
  {
   "cell_type": "markdown",
   "metadata": {
    "id": "7zspc1saWleh"
   },
   "source": [
    "Unfortunately, this model only achieves a validation MAE of approximately 2.9 degrees, which is significantly higher than the common-sense baseline. Two main factors are causing this result:\n",
    "\n",
    "- Firstly, weather data doesn't adhere well to the translation invariance assumption. Although it exhibits daily cycles, the characteristics of morning data differ from those of evening or night time data. Weather data only exhibits translation invariance on a specific timescale.\n",
    "\n",
    "- Secondly, the order of our data is crucial. Recent data is much more informative for predicting the temperature of the following day compared to data from several days prior. A 1D convolutional network is unable to leverage this importance of chronological order. Specifically, our max pooling and global average pooling layers are largely eliminating crucial order information."
   ]
  },
  {
   "cell_type": "markdown",
   "metadata": {
    "id": "fSXYJueWWleh"
   },
   "source": [
    "## A simple LSTM-based model\n",
    "\n",
    "As you may be aware, there exists a category of neural network architectures tailored for sequential data, known as *Recurrent Neural Networks* (RNNs). Within this family, the *Long Short Term Memory* (LSTM) layer has gained considerable popularity over time. Let's experiment with incorporating the LSTM layer into our model."
   ]
  },
  {
   "cell_type": "code",
   "execution_count": 13,
   "metadata": {
    "colab": {
     "base_uri": "https://localhost:8080/"
    },
    "id": "BeJwuSGgWleh",
    "outputId": "2f1182f6-1edf-44fe-958f-7a8a0f9c06ed"
   },
   "outputs": [
    {
     "name": "stdout",
     "output_type": "stream",
     "text": [
      "Epoch 1/10\n"
     ]
    },
    {
     "name": "stdout",
     "output_type": "stream",
     "text": [
      "\u001b[1m819/819\u001b[0m \u001b[32m━━━━━━━━━━━━━━━━━━━━\u001b[0m\u001b[37m\u001b[0m \u001b[1m33s\u001b[0m 40ms/step - loss: 66.8876 - mae: 6.2364 - val_loss: 12.0067 - val_mae: 2.6513\n",
      "Epoch 2/10\n",
      "\u001b[1m819/819\u001b[0m \u001b[32m━━━━━━━━━━━━━━━━━━━━\u001b[0m\u001b[37m\u001b[0m \u001b[1m34s\u001b[0m 41ms/step - loss: 11.7065 - mae: 2.6551 - val_loss: 9.6306 - val_mae: 2.4231\n",
      "Epoch 3/10\n",
      "\u001b[1m819/819\u001b[0m \u001b[32m━━━━━━━━━━━━━━━━━━━━\u001b[0m\u001b[37m\u001b[0m \u001b[1m32s\u001b[0m 39ms/step - loss: 9.9538 - mae: 2.4669 - val_loss: 9.6970 - val_mae: 2.4123\n",
      "Epoch 4/10\n",
      "\u001b[1m819/819\u001b[0m \u001b[32m━━━━━━━━━━━━━━━━━━━━\u001b[0m\u001b[37m\u001b[0m \u001b[1m32s\u001b[0m 39ms/step - loss: 9.4277 - mae: 2.3997 - val_loss: 9.3781 - val_mae: 2.3697\n",
      "Epoch 5/10\n",
      "\u001b[1m819/819\u001b[0m \u001b[32m━━━━━━━━━━━━━━━━━━━━\u001b[0m\u001b[37m\u001b[0m \u001b[1m32s\u001b[0m 39ms/step - loss: 8.9807 - mae: 2.3438 - val_loss: 9.6222 - val_mae: 2.4057\n",
      "Epoch 6/10\n",
      "\u001b[1m819/819\u001b[0m \u001b[32m━━━━━━━━━━━━━━━━━━━━\u001b[0m\u001b[37m\u001b[0m \u001b[1m33s\u001b[0m 40ms/step - loss: 8.6837 - mae: 2.3060 - val_loss: 9.5864 - val_mae: 2.3973\n",
      "Epoch 7/10\n",
      "\u001b[1m819/819\u001b[0m \u001b[32m━━━━━━━━━━━━━━━━━━━━\u001b[0m\u001b[37m\u001b[0m \u001b[1m32s\u001b[0m 39ms/step - loss: 8.4583 - mae: 2.2742 - val_loss: 9.6126 - val_mae: 2.3947\n",
      "Epoch 8/10\n",
      "\u001b[1m819/819\u001b[0m \u001b[32m━━━━━━━━━━━━━━━━━━━━\u001b[0m\u001b[37m\u001b[0m \u001b[1m32s\u001b[0m 39ms/step - loss: 8.2585 - mae: 2.2477 - val_loss: 9.9056 - val_mae: 2.4378\n",
      "Epoch 9/10\n",
      "\u001b[1m819/819\u001b[0m \u001b[32m━━━━━━━━━━━━━━━━━━━━\u001b[0m\u001b[37m\u001b[0m \u001b[1m33s\u001b[0m 40ms/step - loss: 8.1123 - mae: 2.2289 - val_loss: 9.9631 - val_mae: 2.4392\n",
      "Epoch 10/10\n",
      "\u001b[1m819/819\u001b[0m \u001b[32m━━━━━━━━━━━━━━━━━━━━\u001b[0m\u001b[37m\u001b[0m \u001b[1m32s\u001b[0m 39ms/step - loss: 7.9772 - mae: 2.2112 - val_loss: 10.0945 - val_mae: 2.4569\n",
      "\u001b[1m405/405\u001b[0m \u001b[32m━━━━━━━━━━━━━━━━━━━━\u001b[0m\u001b[37m\u001b[0m \u001b[1m8s\u001b[0m 18ms/step - loss: 10.3016 - mae: 2.5253\n",
      "Test MAE: 2.53\n"
     ]
    }
   ],
   "source": [
    "inputs = keras.Input(shape=(sequence_length, raw_data.shape[-1]))\n",
    "x = layers.LSTM(16)(inputs)\n",
    "outputs = layers.Dense(1)(x)\n",
    "model = keras.Model(inputs, outputs)\n",
    "\n",
    "callbacks = [keras.callbacks.ModelCheckpoint(\"jena_lstm.keras\", save_best_only=True)]\n",
    "\n",
    "model.compile(optimizer=\"rmsprop\", loss=\"mse\", metrics=[\"mae\"])\n",
    "history = model.fit(train_dataset, epochs=10, validation_data=val_dataset, callbacks=callbacks)\n",
    "\n",
    "model = keras.models.load_model(\"jena_lstm.keras\")\n",
    "print(f\"Test MAE: {model.evaluate(test_dataset)[1]:.2f}\")"
   ]
  },
  {
   "cell_type": "code",
   "execution_count": 14,
   "metadata": {
    "colab": {
     "base_uri": "https://localhost:8080/",
     "height": 452
    },
    "id": "FaTszQSCZ5lI",
    "outputId": "bbcd0c9f-6824-4e39-be47-f1d456ed64bf"
   },
   "outputs": [
    {
     "data": {
      "image/png": "[encoded data removed]",
      "text/plain": [
       "<Figure size 640x480 with 1 Axes>"
      ]
     },
     "metadata": {},
     "output_type": "display_data"
    }
   ],
   "source": [
    "loss = history.history[\"mae\"]\n",
    "val_loss = history.history[\"val_mae\"]\n",
    "epochs = range(1, len(loss) + 1)\n",
    "plt.figure()\n",
    "plt.plot(epochs, loss, \"bo\", label=\"Training MAE\")\n",
    "plt.plot(epochs, val_loss, \"b\", label=\"Validation MAE\")\n",
    "plt.title(\"Training and validation MAE\")\n",
    "plt.legend()\n",
    "plt.show()"
   ]
  },
  {
   "cell_type": "markdown",
   "metadata": {
    "id": "mWHyUf8UWleh"
   },
   "source": [
    "We managed to reach a validation MAE of about 2.36 degrees and a test MAE of 2.55 degrees approximately. The LSTM-based approach outperforms the common-sense baseline, although the improvement is modest."
   ]
  },
  {
   "cell_type": "markdown",
   "metadata": {
    "id": "O85Dsef0Wlei"
   },
   "source": [
    "## References\n",
    "\n",
    "[1] Chollet, Francois. *Deep learning with Python*. Simon and Schuster, 2021."
   ]
  }
 ],
 "metadata": {
  "accelerator": "TPU",
  "colab": {
   "gpuType": "V28",
   "provenance": [],
   "toc_visible": true
  },
  "kernelspec": {
   "display_name": ".venv",
   "language": "python",
   "name": "python3"
  },
  "language_info": {
   "codemirror_mode": {
    "name": "ipython",
    "version": 3
   },
   "file_extension": ".py",
   "mimetype": "text/x-python",
   "name": "python",
   "nbconvert_exporter": "python",
   "pygments_lexer": "ipython3",
   "version": "3.12.1"
  }
 },
 "nbformat": 4,
 "nbformat_minor": 1
}
